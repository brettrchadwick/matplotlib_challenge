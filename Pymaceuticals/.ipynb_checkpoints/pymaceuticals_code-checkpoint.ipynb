{
 "cells": [
  {
   "cell_type": "markdown",
   "metadata": {},
   "source": [
    "The r-squared value for mouse weight vs average tumor volume is 0.71. This shows a positive correlation between \n",
    "mouse weight and tumor volume. This data can be inferred to predict that the higher a mouse weight is, the larger the tumor will be in that mouse.\n",
    "For mouse B128, the tumor volume decreased over the course of the treatment period. This would indicate that the drug regimen was working for that particular mouse. When comparing the drug regiments Capomulin, Ramicane, Infubinol, and Ceftamin, the final average tumor volume was smallest in Ramicane. It was largest in the drug regimen, Infubinol. These are not definitive results, since the number of data points was relatively small. \n",
    "There was also some outlier data that could have skewed the results some. This could be due to some mice dying early for one reason or another, so they were not subjected to the whole length of treatment. When sampling the mice, the researchers did a fantastic job of getting almost an exact 50:50 split of female and male species. When referencing the summary table, there was a lot of variation in tumor volume for all of the drugs that were studied. This is explained by the wide range of mouse weights, as well as the initial tumor volume varying, different ages as well as weights of the mice that were used. "
   ]
  },
  {
   "cell_type": "code",
   "execution_count": 1,
   "metadata": {},
   "outputs": [],
   "source": [
    "#dependencies and setup\n",
    "import pandas as pd\n",
    "import scipy.stats as st\n",
    "import numpy as np\n",
    "from matplotlib import pyplot as plt"
   ]
  },
  {
   "cell_type": "code",
   "execution_count": 2,
   "metadata": {},
   "outputs": [],
   "source": [
    "#study data files and read them into dataframe\n",
    "mouse_data='Resources/mouse_metadata.csv'\n",
    "study_results='Resources/study_results.csv'\n",
    "mouse_df=pd.read_csv(mouse_data)\n",
    "study_df=pd.read_csv(study_results)"
   ]
  },
  {
   "cell_type": "code",
   "execution_count": 160,
   "metadata": {
    "scrolled": false
   },
   "outputs": [
    {
     "data": {
      "text/html": [
       "<div>\n",
       "<style scoped>\n",
       "    .dataframe tbody tr th:only-of-type {\n",
       "        vertical-align: middle;\n",
       "    }\n",
       "\n",
       "    .dataframe tbody tr th {\n",
       "        vertical-align: top;\n",
       "    }\n",
       "\n",
       "    .dataframe thead th {\n",
       "        text-align: right;\n",
       "    }\n",
       "</style>\n",
       "<table border=\"1\" class=\"dataframe\">\n",
       "  <thead>\n",
       "    <tr style=\"text-align: right;\">\n",
       "      <th></th>\n",
       "      <th>Mouse ID</th>\n",
       "      <th>Timepoint</th>\n",
       "      <th>Tumor Volume (mm3)</th>\n",
       "      <th>Metastatic Sites</th>\n",
       "      <th>Drug Regimen</th>\n",
       "      <th>Sex</th>\n",
       "      <th>Age_months</th>\n",
       "      <th>Weight (g)</th>\n",
       "    </tr>\n",
       "  </thead>\n",
       "  <tbody>\n",
       "    <tr>\n",
       "      <th>0</th>\n",
       "      <td>b128</td>\n",
       "      <td>0</td>\n",
       "      <td>45.000000</td>\n",
       "      <td>0</td>\n",
       "      <td>Capomulin</td>\n",
       "      <td>Female</td>\n",
       "      <td>9</td>\n",
       "      <td>22</td>\n",
       "    </tr>\n",
       "    <tr>\n",
       "      <th>1</th>\n",
       "      <td>b128</td>\n",
       "      <td>5</td>\n",
       "      <td>45.651331</td>\n",
       "      <td>0</td>\n",
       "      <td>Capomulin</td>\n",
       "      <td>Female</td>\n",
       "      <td>9</td>\n",
       "      <td>22</td>\n",
       "    </tr>\n",
       "    <tr>\n",
       "      <th>2</th>\n",
       "      <td>b128</td>\n",
       "      <td>10</td>\n",
       "      <td>43.270852</td>\n",
       "      <td>0</td>\n",
       "      <td>Capomulin</td>\n",
       "      <td>Female</td>\n",
       "      <td>9</td>\n",
       "      <td>22</td>\n",
       "    </tr>\n",
       "    <tr>\n",
       "      <th>3</th>\n",
       "      <td>b128</td>\n",
       "      <td>15</td>\n",
       "      <td>43.784893</td>\n",
       "      <td>0</td>\n",
       "      <td>Capomulin</td>\n",
       "      <td>Female</td>\n",
       "      <td>9</td>\n",
       "      <td>22</td>\n",
       "    </tr>\n",
       "    <tr>\n",
       "      <th>4</th>\n",
       "      <td>b128</td>\n",
       "      <td>20</td>\n",
       "      <td>42.731552</td>\n",
       "      <td>0</td>\n",
       "      <td>Capomulin</td>\n",
       "      <td>Female</td>\n",
       "      <td>9</td>\n",
       "      <td>22</td>\n",
       "    </tr>\n",
       "  </tbody>\n",
       "</table>\n",
       "</div>"
      ],
      "text/plain": [
       "  Mouse ID  Timepoint  Tumor Volume (mm3)  Metastatic Sites Drug Regimen  \\\n",
       "0     b128          0           45.000000                 0    Capomulin   \n",
       "1     b128          5           45.651331                 0    Capomulin   \n",
       "2     b128         10           43.270852                 0    Capomulin   \n",
       "3     b128         15           43.784893                 0    Capomulin   \n",
       "4     b128         20           42.731552                 0    Capomulin   \n",
       "\n",
       "      Sex  Age_months  Weight (g)  \n",
       "0  Female           9          22  \n",
       "1  Female           9          22  \n",
       "2  Female           9          22  \n",
       "3  Female           9          22  \n",
       "4  Female           9          22  "
      ]
     },
     "execution_count": 160,
     "metadata": {},
     "output_type": "execute_result"
    }
   ],
   "source": [
    "#merged table\n",
    "merged_df=pd.merge(study_df, mouse_df, on='Mouse ID', how='outer')\n",
    "merged_df.head()"
   ]
  },
  {
   "cell_type": "code",
   "execution_count": 134,
   "metadata": {},
   "outputs": [
    {
     "data": {
      "text/html": [
       "<div>\n",
       "<style scoped>\n",
       "    .dataframe tbody tr th:only-of-type {\n",
       "        vertical-align: middle;\n",
       "    }\n",
       "\n",
       "    .dataframe tbody tr th {\n",
       "        vertical-align: top;\n",
       "    }\n",
       "\n",
       "    .dataframe thead th {\n",
       "        text-align: right;\n",
       "    }\n",
       "</style>\n",
       "<table border=\"1\" class=\"dataframe\">\n",
       "  <thead>\n",
       "    <tr style=\"text-align: right;\">\n",
       "      <th></th>\n",
       "      <th>Mean Tumor Volume</th>\n",
       "      <th>Median Tumor Volume</th>\n",
       "      <th>Tumor Volume Variance</th>\n",
       "      <th>Tumor Volume Std. Dev</th>\n",
       "      <th>Tumor Volume SEM</th>\n",
       "    </tr>\n",
       "    <tr>\n",
       "      <th>Drug Regimen</th>\n",
       "      <th></th>\n",
       "      <th></th>\n",
       "      <th></th>\n",
       "      <th></th>\n",
       "      <th></th>\n",
       "    </tr>\n",
       "  </thead>\n",
       "  <tbody>\n",
       "    <tr>\n",
       "      <th>Capomulin</th>\n",
       "      <td>40.675741</td>\n",
       "      <td>41.557809</td>\n",
       "      <td>24.947764</td>\n",
       "      <td>4.994774</td>\n",
       "      <td>0.329346</td>\n",
       "    </tr>\n",
       "    <tr>\n",
       "      <th>Ceftamin</th>\n",
       "      <td>52.591172</td>\n",
       "      <td>51.776157</td>\n",
       "      <td>39.290177</td>\n",
       "      <td>6.268188</td>\n",
       "      <td>0.469821</td>\n",
       "    </tr>\n",
       "    <tr>\n",
       "      <th>Infubinol</th>\n",
       "      <td>52.884795</td>\n",
       "      <td>51.820584</td>\n",
       "      <td>43.128684</td>\n",
       "      <td>6.567243</td>\n",
       "      <td>0.492236</td>\n",
       "    </tr>\n",
       "    <tr>\n",
       "      <th>Ketapril</th>\n",
       "      <td>55.235638</td>\n",
       "      <td>53.698743</td>\n",
       "      <td>68.553577</td>\n",
       "      <td>8.279709</td>\n",
       "      <td>0.603860</td>\n",
       "    </tr>\n",
       "    <tr>\n",
       "      <th>Naftisol</th>\n",
       "      <td>54.331565</td>\n",
       "      <td>52.509285</td>\n",
       "      <td>66.173479</td>\n",
       "      <td>8.134708</td>\n",
       "      <td>0.596466</td>\n",
       "    </tr>\n",
       "    <tr>\n",
       "      <th>Placebo</th>\n",
       "      <td>54.033581</td>\n",
       "      <td>52.288934</td>\n",
       "      <td>61.168083</td>\n",
       "      <td>7.821003</td>\n",
       "      <td>0.581331</td>\n",
       "    </tr>\n",
       "    <tr>\n",
       "      <th>Propriva</th>\n",
       "      <td>52.322552</td>\n",
       "      <td>50.854632</td>\n",
       "      <td>42.351070</td>\n",
       "      <td>6.507770</td>\n",
       "      <td>0.512884</td>\n",
       "    </tr>\n",
       "    <tr>\n",
       "      <th>Ramicane</th>\n",
       "      <td>40.216745</td>\n",
       "      <td>40.673236</td>\n",
       "      <td>23.486704</td>\n",
       "      <td>4.846308</td>\n",
       "      <td>0.320955</td>\n",
       "    </tr>\n",
       "    <tr>\n",
       "      <th>Stelasyn</th>\n",
       "      <td>54.233149</td>\n",
       "      <td>52.431737</td>\n",
       "      <td>59.450562</td>\n",
       "      <td>7.710419</td>\n",
       "      <td>0.573111</td>\n",
       "    </tr>\n",
       "    <tr>\n",
       "      <th>Zoniferol</th>\n",
       "      <td>53.236507</td>\n",
       "      <td>51.818479</td>\n",
       "      <td>48.533355</td>\n",
       "      <td>6.966589</td>\n",
       "      <td>0.516398</td>\n",
       "    </tr>\n",
       "  </tbody>\n",
       "</table>\n",
       "</div>"
      ],
      "text/plain": [
       "              Mean Tumor Volume  Median Tumor Volume  Tumor Volume Variance  \\\n",
       "Drug Regimen                                                                  \n",
       "Capomulin             40.675741            41.557809              24.947764   \n",
       "Ceftamin              52.591172            51.776157              39.290177   \n",
       "Infubinol             52.884795            51.820584              43.128684   \n",
       "Ketapril              55.235638            53.698743              68.553577   \n",
       "Naftisol              54.331565            52.509285              66.173479   \n",
       "Placebo               54.033581            52.288934              61.168083   \n",
       "Propriva              52.322552            50.854632              42.351070   \n",
       "Ramicane              40.216745            40.673236              23.486704   \n",
       "Stelasyn              54.233149            52.431737              59.450562   \n",
       "Zoniferol             53.236507            51.818479              48.533355   \n",
       "\n",
       "              Tumor Volume Std. Dev  Tumor Volume SEM  \n",
       "Drug Regimen                                           \n",
       "Capomulin                  4.994774          0.329346  \n",
       "Ceftamin                   6.268188          0.469821  \n",
       "Infubinol                  6.567243          0.492236  \n",
       "Ketapril                   8.279709          0.603860  \n",
       "Naftisol                   8.134708          0.596466  \n",
       "Placebo                    7.821003          0.581331  \n",
       "Propriva                   6.507770          0.512884  \n",
       "Ramicane                   4.846308          0.320955  \n",
       "Stelasyn                   7.710419          0.573111  \n",
       "Zoniferol                  6.966589          0.516398  "
      ]
     },
     "execution_count": 134,
     "metadata": {},
     "output_type": "execute_result"
    }
   ],
   "source": [
    "#summary statistics for tumor volume for each drug regimen\n",
    "stats_df=merged_df.groupby(['Drug Regimen'])\n",
    "mean_tumor=stats_df['Tumor Volume (mm3)'].mean()\n",
    "median_tumor=stats_df['Tumor Volume (mm3)'].median()\n",
    "var_tumor=stats_df['Tumor Volume (mm3)'].var()\n",
    "std_tumor=stats_df['Tumor Volume (mm3)'].std()\n",
    "sem_tumor=stats_df['Tumor Volume (mm3)'].sem()\n",
    "summ_stats_df=pd.DataFrame({'Mean Tumor Volume':mean_tumor, 'Median Tumor Volume':median_tumor,'Tumor Volume Variance':var_tumor,'Tumor Volume Std. Dev':std_tumor,\n",
    "                           'Tumor Volume SEM':sem_tumor})\n",
    "summ_stats_df"
   ]
  },
  {
   "cell_type": "code",
   "execution_count": 7,
   "metadata": {},
   "outputs": [
    {
     "data": {
      "text/plain": [
       "Text(0.5, 1.0, 'Total Number of Data Points for each Drug Regimen')"
      ]
     },
     "execution_count": 7,
     "metadata": {},
     "output_type": "execute_result"
    },
    {
     "data": {
      "image/png": "[encoded data removed]",
      "text/plain": [
       "<Figure size 432x288 with 1 Axes>"
      ]
     },
     "metadata": {
      "needs_background": "light"
     },
     "output_type": "display_data"
    }
   ],
   "source": [
    "#bar plot for number of data points using pandas\n",
    "data_points=merged_df['Drug Regimen'].value_counts()\n",
    "data_points=data_points.sort_index()\n",
    "ymax=data_points.max()\n",
    "x_axis=np.arange(len(data_points))\n",
    "data_chart=data_points.plot(kind='bar')\n",
    "data_chart.set_xlabel('Drug Regimen')\n",
    "data_chart.set_ylabel('Number of Data Points')\n",
    "data_chart.set_ylim(0,(ymax+20))\n",
    "data_chart.set_xlim(-.75, len(x_axis)-.25)\n",
    "data_chart.set_title('Total Number of Data Points for each Drug Regimen')\n"
   ]
  },
  {
   "cell_type": "code",
   "execution_count": 6,
   "metadata": {},
   "outputs": [
    {
     "data": {
      "image/png": "[encoded data removed]",
      "text/plain": [
       "<Figure size 432x288 with 1 Axes>"
      ]
     },
     "metadata": {
      "needs_background": "light"
     },
     "output_type": "display_data"
    }
   ],
   "source": [
    "#bar chart for data points using matplotlib\n",
    "x_axis=np.arange(len(data_points))\n",
    "ymax=data_points.max()\n",
    "drug_regimen=list(merged_df['Drug Regimen'].unique())\n",
    "plt.bar(x_axis, data_points, color='r', align='center')\n",
    "tick_locations=[value for value in x_axis]\n",
    "plt.xticks(tick_locations, sorted(drug_regimen), rotation='vertical')\n",
    "plt.title('Total Number Of Data Points for Each Drug Regimen')\n",
    "plt.xlabel('Drug Regimen')\n",
    "plt.ylabel('Number of Data Points')\n",
    "plt.xlim(-.75, len(x_axis)-.25)\n",
    "plt.ylim(0,(ymax+20))\n",
    "plt.tight_layout()\n",
    "plt.show()"
   ]
  },
  {
   "cell_type": "code",
   "execution_count": 8,
   "metadata": {},
   "outputs": [
    {
     "data": {
      "image/png": "[encoded data removed]",
      "text/plain": [
       "<Figure size 432x288 with 1 Axes>"
      ]
     },
     "metadata": {},
     "output_type": "display_data"
    }
   ],
   "source": [
    "#create Pie Chart to show distrubtion by gender using matplotlib\n",
    "gender_df=merged_df.groupby(['Sex'])\n",
    "gender_count=gender_df.nunique()\n",
    "gender_count=gender_count['Mouse ID']\n",
    "labels=['Female','Male']\n",
    "color=['Pink','Yellow']\n",
    "explode=[0.05,0]\n",
    "plt.pie(gender_count, explode=explode, labels=labels, colors=color, autopct=\"%1.1f%%\", shadow=True, startangle=90)\n",
    "plt.axis('Equal')\n",
    "plt.title('Gender Breakdown in Study')\n",
    "plt.show()"
   ]
  },
  {
   "cell_type": "code",
   "execution_count": 9,
   "metadata": {},
   "outputs": [
    {
     "data": {
      "text/plain": [
       "<matplotlib.axes._subplots.AxesSubplot at 0x1a2211c278>"
      ]
     },
     "execution_count": 9,
     "metadata": {},
     "output_type": "execute_result"
    },
    {
     "data": {
      "image/png": "[encoded data removed]",
      "text/plain": [
       "<Figure size 864x576 with 1 Axes>"
      ]
     },
     "metadata": {},
     "output_type": "display_data"
    }
   ],
   "source": [
    "#create Pie Chart to show distribution of gender using pandas\n",
    "plt.figure(figsize=(12,8))\n",
    "ax1=plt.subplot(121, aspect='equal')\n",
    "color=['Teal','Orange']\n",
    "gender_count.plot(kind='pie', ax=ax1, autopct='%1.1f%%', startangle=45, colors=color, title='Gender Breakdown in Study' )\n"
   ]
  },
  {
   "cell_type": "code",
   "execution_count": 135,
   "metadata": {
    "scrolled": true
   },
   "outputs": [],
   "source": [
    "#calculating final tumor volume for Capomulin, Ramicane, Infubinol, and Ceftamin\n",
    "final_table=merged_df[['Mouse ID','Timepoint','Tumor Volume (mm3)','Drug Regimen']]\n",
    "final_table=final_table.sort_values(['Mouse ID','Timepoint'])\n",
    "final_table=final_table.drop_duplicates(subset='Mouse ID', keep='last')\n",
    "cap_table=final_table.loc[final_table['Drug Regimen']=='Capomulin']\n",
    "ram_table=final_table.loc[final_table['Drug Regimen']=='Ramicane']\n",
    "inf_table=final_table.loc[final_table['Drug Regimen']=='Infubinol']\n",
    "cef_table=final_table.loc[final_table['Drug Regimen']=='Ceftamin']\n"
   ]
  },
  {
   "cell_type": "code",
   "execution_count": 136,
   "metadata": {},
   "outputs": [
    {
     "name": "stdout",
     "output_type": "stream",
     "text": [
      "The average tumor volume for a mouse treated with Ramicane is 36.19 mm3.\n",
      "The upper quartile of the tumor volume for a mouse treated with Ramicane is 40.66 mm3.\n",
      "The lower quartile of the tumor volume for a mouse treated with Ramicane is 31.56 mm3.\n",
      "The median tumor volume for a mouse treated with Ramicane is 36.56 mm3.\n",
      "Potential outliers would be below 17.913 mm3, or above 54.307 mm3.\n",
      "-----------------------------\n",
      "The outliers for Ramicane are: \n",
      " Empty DataFrame\n",
      "Columns: [Mouse ID, Timepoint, Tumor Volume (mm3), Drug Regimen]\n",
      "Index: []\n"
     ]
    }
   ],
   "source": [
    "#quartiles, IQR, average tumor volume for Ramicane\n",
    "ram_vol=ram_table[['Tumor Volume (mm3)']]\n",
    "ram_avg=ram_vol.mean()\n",
    "quartilesram=ram_vol.quantile([.25,.5,.75])\n",
    "lowerqram=quartilesram.loc[0.25]\n",
    "upperqram=quartilesram.loc[.75]\n",
    "medram=quartilesram.loc[.5]\n",
    "iqrram=upperqram-lowerqram\n",
    "upperboundram= float(upperqram) + (1.5*(float(iqrram)))\n",
    "lowerboundram= float(lowerqram) - (1.5*(float(iqrram)))\n",
    "\n",
    "\n",
    "print(f'The average tumor volume for a mouse treated with Ramicane is {round(float(ram_avg),2)} mm3.')\n",
    "print(f'The upper quartile of the tumor volume for a mouse treated with Ramicane is {round(float(upperqram),2)} mm3.')\n",
    "print(f'The lower quartile of the tumor volume for a mouse treated with Ramicane is {round(float(lowerqram),2)} mm3.')\n",
    "print(f'The median tumor volume for a mouse treated with Ramicane is {round(float(medram),2)} mm3.')\n",
    "print(f'Potential outliers would be below {round(lowerboundram,3)} mm3, or above {round(upperboundram,3)} mm3.')\n",
    "print(f'-----------------------------')\n",
    "\n",
    "ram_outlier=ram_table.loc[(ram_table['Tumor Volume (mm3)'] < lowerboundram) | (ram_table['Tumor Volume (mm3)'] > upperboundram)]\n",
    "print(f'The outliers for Ramicane are: \\n {ram_outlier}')\n",
    "\n",
    "#there are not outliers for this drug regimen"
   ]
  },
  {
   "cell_type": "code",
   "execution_count": 137,
   "metadata": {},
   "outputs": [
    {
     "name": "stdout",
     "output_type": "stream",
     "text": [
      "The average tumor volume for a mouse treated with Capomulin is 36.67 mm3.\n",
      "The upper quartile of the tumor volume for a mouse treated with Capolumin is 40.16 mm3.\n",
      "The lower quartile of the tumor volume for a mouse treated with Capolumin is 32.38 mm3.\n",
      "The median tumor volume for a mouse treated with Capolumin is 38.13 mm3.\n",
      "Potential outliers would be below 20.705 mm3, or above 51.832 mm3.\n",
      "-----------------------------\n",
      "The outliers for Capomulin are: \n",
      " Empty DataFrame\n",
      "Columns: [Mouse ID, Timepoint, Tumor Volume (mm3), Drug Regimen]\n",
      "Index: []\n"
     ]
    }
   ],
   "source": [
    "#quartiles, IQR, average tumor volume for Capomulin\n",
    "cap_vol=cap_table[['Tumor Volume (mm3)']]\n",
    "cap_avg=cap_vol.mean()\n",
    "quartilescap=cap_vol.quantile([.25,.5,.75])\n",
    "lowerqcap=quartilescap.loc[0.25]\n",
    "upperqcap=quartilescap.loc[.75]\n",
    "medcap=quartilescap.loc[.5]\n",
    "iqrcap=upperqcap-lowerqcap\n",
    "upperboundcap= float(upperqcap) + (1.5*(float(iqrcap)))\n",
    "lowerboundcap= float(lowerqcap) - (1.5*(float(iqrcap)))\n",
    "\n",
    "\n",
    "print(f'The average tumor volume for a mouse treated with Capomulin is {round(float(cap_avg),2)} mm3.')\n",
    "print(f'The upper quartile of the tumor volume for a mouse treated with Capolumin is {round(float(upperqcap),2)} mm3.')\n",
    "print(f'The lower quartile of the tumor volume for a mouse treated with Capolumin is {round(float(lowerqcap),2)} mm3.')\n",
    "print(f'The median tumor volume for a mouse treated with Capolumin is {round(float(medcap),2)} mm3.')\n",
    "print(f'Potential outliers would be below {round(lowerboundcap,3)} mm3, or above {round(upperboundcap,3)} mm3.')\n",
    "print(f'-----------------------------')\n",
    "\n",
    "cap_outlier=cap_table.loc[(cap_table['Tumor Volume (mm3)'] < lowerboundcap) | (cap_table['Tumor Volume (mm3)'] > upperboundcap)]\n",
    "print(f'The outliers for Capomulin are: \\n {cap_outlier}')\n",
    "\n",
    "#there are not outliers for this drug regimen\n"
   ]
  },
  {
   "cell_type": "code",
   "execution_count": 138,
   "metadata": {},
   "outputs": [
    {
     "name": "stdout",
     "output_type": "stream",
     "text": [
      "The average tumor volume for a mouse treated with Infubinol is 58.18 mm3.\n",
      "The upper quartile of the tumor volume for a mouse treated with Infubinol is 65.53 mm3.\n",
      "The lower quartile of the tumor volume for a mouse treated with Infubinol is 54.05 mm3.\n",
      "The median tumor volume for a mouse treated with Infubinol is 60.17 mm3.\n",
      "Potential outliers would be below 36.833 mm3, or above 82.741 mm3.\n",
      "-----------------------------\n",
      "The outliers for Infubinol are: \n",
      "     Mouse ID  Timepoint  Tumor Volume (mm3) Drug Regimen\n",
      "214     c326          5           36.321346    Infubinol\n"
     ]
    }
   ],
   "source": [
    "#quartiles, IQR, average tumor volume for Infubinol\n",
    "inf_vol=inf_table[['Tumor Volume (mm3)']]\n",
    "inf_avg=inf_vol.mean()\n",
    "quartilesinf=inf_vol.quantile([.25,.5,.75])\n",
    "lowerqinf=quartilesinf.loc[0.25]\n",
    "upperqinf=quartilesinf.loc[.75]\n",
    "medinf=quartilesinf.loc[.5]\n",
    "iqrinf=upperqinf-lowerqinf\n",
    "upperboundinf= float(upperqinf) + (1.5*(float(iqrinf)))\n",
    "lowerboundinf= float(lowerqinf) - (1.5*(float(iqrinf)))\n",
    "\n",
    "\n",
    "print(f'The average tumor volume for a mouse treated with Infubinol is {round(float(inf_avg),2)} mm3.')\n",
    "print(f'The upper quartile of the tumor volume for a mouse treated with Infubinol is {round(float(upperqinf),2)} mm3.')\n",
    "print(f'The lower quartile of the tumor volume for a mouse treated with Infubinol is {round(float(lowerqinf),2)} mm3.')\n",
    "print(f'The median tumor volume for a mouse treated with Infubinol is {round(float(medinf),2)} mm3.')\n",
    "print(f'Potential outliers would be below {round(lowerboundinf,3)} mm3, or above {round(upperboundinf,3)} mm3.')\n",
    "print(f'-----------------------------')\n",
    "inf_outlier=inf_table.loc[(inf_table['Tumor Volume (mm3)'] < lowerboundinf) | (inf_table['Tumor Volume (mm3)'] > upperboundinf)]\n",
    "print(f'The outliers for Infubinol are: \\n {inf_outlier}')\n"
   ]
  },
  {
   "cell_type": "code",
   "execution_count": 139,
   "metadata": {
    "scrolled": true
   },
   "outputs": [
    {
     "name": "stdout",
     "output_type": "stream",
     "text": [
      "The average tumor volume for a mouse treated with Ceftamin is 57.75 mm3.\n",
      "The upper quartile of the tumor volume for a mouse treated with Ceftamin is 64.3 mm3.\n",
      "The lower quartile of the tumor volume for a mouse treated with Ceftamin is 48.72 mm3.\n",
      "The median tumor volume for a mouse treated with Ceftamin is 59.85 mm3.\n",
      "Potential outliers would be below 25.355 mm3, or above 87.666 mm3.\n",
      "-----------------------------\n",
      "The outliers for Ceftamin are: \n",
      " Empty DataFrame\n",
      "Columns: [Mouse ID, Timepoint, Tumor Volume (mm3), Drug Regimen]\n",
      "Index: []\n"
     ]
    }
   ],
   "source": [
    "#quartiles, IQR, average tumor volume for Ceftamin\n",
    "cef_vol=cef_table[['Tumor Volume (mm3)']]\n",
    "cef_avg=cef_vol.mean()\n",
    "quartilescef=cef_vol.quantile([.25,.5,.75])\n",
    "lowerqcef=quartilescef.loc[0.25]\n",
    "upperqcef=quartilescef.loc[.75]\n",
    "medcef=quartilescef.loc[.5]\n",
    "iqrcef=upperqcef-lowerqcef\n",
    "upperboundcef= float(upperqcef) + (1.5*(float(iqrcef)))\n",
    "lowerboundcef= float(lowerqcef) - (1.5*(float(iqrcef)))\n",
    "\n",
    "\n",
    "print(f'The average tumor volume for a mouse treated with Ceftamin is {round(float(cef_avg),2)} mm3.')\n",
    "print(f'The upper quartile of the tumor volume for a mouse treated with Ceftamin is {round(float(upperqcef),2)} mm3.')\n",
    "print(f'The lower quartile of the tumor volume for a mouse treated with Ceftamin is {round(float(lowerqcef),2)} mm3.')\n",
    "print(f'The median tumor volume for a mouse treated with Ceftamin is {round(float(medcef),2)} mm3.')\n",
    "print(f'Potential outliers would be below {round(lowerboundcef,3)} mm3, or above {round(upperboundcef,3)} mm3.')\n",
    "print(f'-----------------------------')\n",
    "\n",
    "cef_outlier=cef_table.loc[(cef_table['Tumor Volume (mm3)'] < lowerboundcef) | (cef_table['Tumor Volume (mm3)'] > upperboundcef)]\n",
    "print(f'The outliers for Ceftamin are: \\n {cef_outlier}')\n",
    "\n",
    "#there are no outliers for this drug regimen"
   ]
  },
  {
   "cell_type": "code",
   "execution_count": 141,
   "metadata": {},
   "outputs": [
    {
     "data": {
      "image/png": "[encoded data removed]",
      "text/plain": [
       "<Figure size 432x288 with 1 Axes>"
      ]
     },
     "metadata": {
      "needs_background": "light"
     },
     "output_type": "display_data"
    }
   ],
   "source": [
    "#create box and whisker plot for all 4 drug regimens based on tumor volume and visually display outliers\n",
    "fig3, ax1=plt.subplots()\n",
    "ax1.set_title('Final Tumor Volume for 4 Drug Regimens')\n",
    "labels=['Ceftamin','Ramicane','Infubinol', 'Capomulin']\n",
    "ax1.set_ylabel('Final Tumor Volume (mm3)')\n",
    "ax1.set_xlabel('Drug Regimen')\n",
    "blue_diamond = dict(markerfacecolor='b', marker='D')\n",
    "boxdata=[cef_vol['Tumor Volume (mm3)'], ram_vol['Tumor Volume (mm3)'], inf_vol['Tumor Volume (mm3)'], cap_vol['Tumor Volume (mm3)']]\n",
    "ax1.boxplot(boxdata, flierprops=blue_diamond, labels=labels)\n",
    "plt.show()"
   ]
  },
  {
   "cell_type": "code",
   "execution_count": 133,
   "metadata": {},
   "outputs": [
    {
     "data": {
      "image/png": "[encoded data removed]",
      "text/plain": [
       "<Figure size 432x288 with 1 Axes>"
      ]
     },
     "metadata": {
      "needs_background": "light"
     },
     "output_type": "display_data"
    }
   ],
   "source": [
    "#create line plot of time point vs tumor vol for single mouse treated with Capomulin\n",
    "b128=merged_df.loc[merged_df['Mouse ID'] =='b128']\n",
    "time128=b128[['Timepoint']]\n",
    "tum_vol=b128[['Tumor Volume (mm3)']]\n",
    "b128line=plt.plot(time128, tum_vol, marker='*')\n",
    "plt.xlabel('TimePoints (Days)')\n",
    "plt.ylabel('Tumor Volume (mm3)')\n",
    "plt.title('Capomulin treatment for Mouse B128')\n",
    "plt.show()"
   ]
  },
  {
   "cell_type": "code",
   "execution_count": 127,
   "metadata": {},
   "outputs": [
    {
     "data": {
      "image/png": "[encoded data removed]",
      "text/plain": [
       "<Figure size 432x288 with 1 Axes>"
      ]
     },
     "metadata": {
      "needs_background": "light"
     },
     "output_type": "display_data"
    }
   ],
   "source": [
    "#create scatter plot of mouse weight vs average tumor volume for Capomulin regimen\n",
    "scatt=merged_df.loc[merged_df['Drug Regimen'] =='Capomulin']\n",
    "scatt=scatt.groupby('Mouse ID').mean()\n",
    "x_scatt=scatt['Weight (g)'] \n",
    "y_scatt=scatt['Tumor Volume (mm3)']\n",
    "plt.xlabel('Weight in grams')\n",
    "plt.ylabel('Tumor Volume (mm3)')\n",
    "plt.title('Mouse Weight VS. Average Tumor Volume for Capomulin Treatment Regimen')\n",
    "plt.ylim((y_scatt.min()-1.5), (y_scatt.max()+1.5))\n",
    "plt.xlim((x_scatt.min()-2), (x_scatt.max()+2))\n",
    "plt.scatter(x_scatt, y_scatt, marker='o', facecolors='blue')\n",
    "plt.show()"
   ]
  },
  {
   "cell_type": "code",
   "execution_count": 157,
   "metadata": {},
   "outputs": [
    {
     "data": {
      "image/png": "[encoded data removed]",
      "text/plain": [
       "<Figure size 432x288 with 1 Axes>"
      ]
     },
     "metadata": {
      "needs_background": "light"
     },
     "output_type": "display_data"
    },
    {
     "name": "stdout",
     "output_type": "stream",
     "text": [
      "The correlation between mouse weight (g) and average tumor volume is 0.71\n"
     ]
    }
   ],
   "source": [
    "#correlation and lin regression for mouse weight vs. avg tumor volume for Capomulin regimen\n",
    "[cap_slope, cap_int, cap_r, cap_p, cap_std_err]=st.linregress(x_scatt, y_scatt)\n",
    "\n",
    "cap_fit= cap_slope*(x_scatt)+cap_int\n",
    "line_eq = \"y = \" + str(round(cap_slope,2)) + \"x + \" + str(round(cap_int,2))\n",
    "\n",
    "plt.xlabel('Weight in grams')\n",
    "plt.ylabel('Tumor Volume (mm3)')\n",
    "plt.title('Mouse Weight VS. Average Tumor Volume for Capomulin Treatment Regimen')\n",
    "plt.ylim((y_scatt.min()-1.5), (y_scatt.max()+1.5))\n",
    "plt.xlim((x_scatt.min()-.5), (x_scatt.max()+.5))\n",
    "plt.scatter(x_scatt, y_scatt, marker='o', facecolors='blue')\n",
    "\n",
    "plt.plot(x_scatt,cap_fit,\"r-\")\n",
    "plt.annotate(line_eq,(15,44),fontsize=15,color=\"red\")\n",
    "\n",
    "plt.show()\n",
    "print(f'The correlation between mouse weight (g) and average tumor volume is {round(cap_r**2,2)}')\n"
   ]
  },
  {
   "cell_type": "code",
   "execution_count": null,
   "metadata": {},
   "outputs": [],
   "source": []
  },
  {
   "cell_type": "code",
   "execution_count": null,
   "metadata": {},
   "outputs": [],
   "source": []
  }
 ],
 "metadata": {
  "kernelspec": {
   "display_name": "Python [conda env:PythonData] *",
   "language": "python",
   "name": "conda-env-PythonData-py"
  },
  "language_info": {
   "codemirror_mode": {
    "name": "ipython",
    "version": 3
   },
   "file_extension": ".py",
   "mimetype": "text/x-python",
   "name": "python",
   "nbconvert_exporter": "python",
   "pygments_lexer": "ipython3",
   "version": "3.6.10"
  }
 },
 "nbformat": 4,
 "nbformat_minor": 4
}
